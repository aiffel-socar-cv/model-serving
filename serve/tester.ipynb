{
 "cells": [
  {
   "cell_type": "markdown",
   "metadata": {},
   "source": [
    "```\n",
    "curl http://127.0.0.1:8080/predictions/${MODEL_NAME} -T 3dogs.jpg -o 3dogs_mask.png\n",
    "```"
   ]
  },
  {
   "cell_type": "code",
   "execution_count": 39,
   "metadata": {},
   "outputs": [],
   "source": [
    "import requests\n",
    "import json\n",
    "from PIL import Image\n",
    "import base64\n",
    "import cv2\n",
    "import numpy as np\n",
    "import matplotlib.pyplot as plt\n",
    "import os"
   ]
  },
  {
   "cell_type": "code",
   "execution_count": 40,
   "metadata": {},
   "outputs": [],
   "source": [
    "test_image = \"/Users/tseo/Documents/Github/viai-serving/DATA/dent/valid/images/20190505_4365_22799772_41d86711015ea27da507aeb173247702.jpg\"\n",
    "# test_image =  \"/Users/tseo/Documents/Github/viai-serving/DATA/dent/test/images/20190227_10535_20402100_8621821f5ed8c37bc0b8e6e0efc9cc0a.jpg\"\n",
    "# test_image = \"/Users/tseo/Documents/Github/viai-serving/DATA/dent/train/images/20190421_5831_22190653_95e51a9df25733efb180707d5cfcb9fb.jpg\"\n",
    "# test_image = \"/Users/tseo/Documents/Github/viai-serving/DATA/dent/train/images/20190519_7641_23561154_4266de84ff604bd4736d9c536079ba70.jpg\"\n",
    "# test_image = \"/Users/tseo/Documents/Github/viai-serving/DATA/dent/train/images/20190505_15096_22780699_4d37042b5290c89c6b08765182d883a1.jpg\"\n",
    "# save_dir = \"/Users/tseo/Documents/Github/viai-serving/RESULT/dent\""
   ]
  },
  {
   "cell_type": "code",
   "execution_count": 41,
   "metadata": {},
   "outputs": [
    {
     "data": {
      "text/plain": [
       "'20190505_4365_22799772_41d86711015ea27da507aeb173247702.jpg'"
      ]
     },
     "execution_count": 41,
     "metadata": {},
     "output_type": "execute_result"
    }
   ],
   "source": [
    "file_name = test_image.split('/')[-1]\n",
    "file_name"
   ]
  },
  {
   "cell_type": "code",
   "execution_count": 42,
   "metadata": {},
   "outputs": [],
   "source": [
    "import base64\n",
    "with open(test_image, 'rb') as img:\n",
    "    base64_string1 = base64.b64encode(img.read())"
   ]
  },
  {
   "cell_type": "code",
   "execution_count": 43,
   "metadata": {},
   "outputs": [],
   "source": [
    "\n",
    "# raw = cv2.imread(test_image)\n",
    "# raw = base64.b64encode(test_image)\n",
    "\n",
    "data = {'name': file_name, 'body' : base64_string1}"
   ]
  },
  {
   "cell_type": "code",
   "execution_count": 44,
   "metadata": {},
   "outputs": [],
   "source": [
    "# raw"
   ]
  },
  {
   "cell_type": "markdown",
   "metadata": {},
   "source": []
  },
  {
   "cell_type": "code",
   "execution_count": 45,
   "metadata": {},
   "outputs": [],
   "source": [
    "# data = json.dumps(data)\n",
    "# data"
   ]
  },
  {
   "cell_type": "code",
   "execution_count": 46,
   "metadata": {},
   "outputs": [],
   "source": [
    "# data = {}\n",
    "res = requests.post(\"http://0.0.0.0:9000/predictions/spacing\", data=data)"
   ]
  },
  {
   "cell_type": "code",
   "execution_count": 47,
   "metadata": {},
   "outputs": [
    {
     "data": {
      "text/plain": [
       "<Response [200]>"
      ]
     },
     "execution_count": 47,
     "metadata": {},
     "output_type": "execute_result"
    }
   ],
   "source": [
    "res"
   ]
  },
  {
   "cell_type": "code",
   "execution_count": 48,
   "metadata": {},
   "outputs": [
    {
     "name": "stdout",
     "output_type": "stream",
     "text": [
      "<class 'bytes'>\n"
     ]
    }
   ],
   "source": [
    "result = res.content\n",
    "# result\n",
    "print(type(result))\n",
    "# img_np = cv2.imdecode(result, cv2.CV_LOAD_)"
   ]
  },
  {
   "cell_type": "code",
   "execution_count": 49,
   "metadata": {},
   "outputs": [
    {
     "name": "stdout",
     "output_type": "stream",
     "text": [
      "180\n"
     ]
    }
   ],
   "source": [
    "import sys\n",
    "print(sys.getsizeof(result))"
   ]
  },
  {
   "cell_type": "code",
   "execution_count": 50,
   "metadata": {},
   "outputs": [
    {
     "name": "stdout",
     "output_type": "stream",
     "text": [
      "{\n",
      "  \"class\": \"scratch\",\n",
      "  \"mask\": \"masks-scratch/20190505_4365_22799772_41d86711015ea27da507aeb173247702.png\",\n",
      "  \"confidence\": 0.6469128406711113\n",
      "}\n"
     ]
    }
   ],
   "source": [
    "data_str = result.decode('utf8')\n",
    "print(data_str)"
   ]
  },
  {
   "cell_type": "code",
   "execution_count": null,
   "metadata": {},
   "outputs": [],
   "source": []
  }
 ],
 "metadata": {
  "interpreter": {
   "hash": "fad1c28c3ca5a8b7a8790053eacaf38eb716a516ca9d9c94d49d23c42ffa1686"
  },
  "kernelspec": {
   "display_name": "Python 3.9.7 64-bit ('torch': conda)",
   "language": "python",
   "name": "python3"
  },
  "language_info": {
   "codemirror_mode": {
    "name": "ipython",
    "version": 3
   },
   "file_extension": ".py",
   "mimetype": "text/x-python",
   "name": "python",
   "nbconvert_exporter": "python",
   "pygments_lexer": "ipython3",
   "version": "3.9.7"
  },
  "orig_nbformat": 4
 },
 "nbformat": 4,
 "nbformat_minor": 2
}
